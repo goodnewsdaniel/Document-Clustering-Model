{
 "cells": [
  {
   "cell_type": "code",
   "execution_count": 1,
   "id": "aeb8d68a",
   "metadata": {},
   "outputs": [],
   "source": [
    "# Review Segmentation Using KMeans"
   ]
  },
  {
   "cell_type": "markdown",
   "id": "23c35418",
   "metadata": {},
   "source": [
    "# Import Required Libraries"
   ]
  },
  {
   "cell_type": "code",
   "execution_count": 2,
   "id": "85ab64ab",
   "metadata": {},
   "outputs": [],
   "source": [
    "# Import Libraries\n",
    "import pandas as pd\n",
    "from sklearn.feature_extraction.text import TfidfVectorizer\n",
    "from sklearn.cluster import KMeans\n",
    "import matplotlib.pyplot as plt\n",
    "from sklearn.decomposition import PCA\n",
    "import numpy as np\n",
    "import seaborn as sns"
   ]
  },
  {
   "cell_type": "markdown",
   "id": "8b709e62",
   "metadata": {},
   "source": [
    "<span class=\"mark\">IMPLEMENTATION METHOD 1:</span>"
   ]
  },
  {
   "cell_type": "markdown",
   "id": "621d2cef",
   "metadata": {},
   "source": [
    "# Load and Preprocess Data"
   ]
  },
  {
   "cell_type": "code",
   "execution_count": 3,
   "id": "597a9d28",
   "metadata": {},
   "outputs": [
    {
     "data": {
      "text/html": [
       "<div>\n",
       "<style scoped>\n",
       "    .dataframe tbody tr th:only-of-type {\n",
       "        vertical-align: middle;\n",
       "    }\n",
       "\n",
       "    .dataframe tbody tr th {\n",
       "        vertical-align: top;\n",
       "    }\n",
       "\n",
       "    .dataframe thead th {\n",
       "        text-align: right;\n",
       "    }\n",
       "</style>\n",
       "<table border=\"1\" class=\"dataframe\">\n",
       "  <thead>\n",
       "    <tr style=\"text-align: right;\">\n",
       "      <th></th>\n",
       "      <th>Review</th>\n",
       "      <th>Label</th>\n",
       "    </tr>\n",
       "  </thead>\n",
       "  <tbody>\n",
       "    <tr>\n",
       "      <th>0</th>\n",
       "      <td>A very, very, very slow-moving, aimless movie ...</td>\n",
       "      <td>0</td>\n",
       "    </tr>\n",
       "    <tr>\n",
       "      <th>1</th>\n",
       "      <td>Not sure who was more lost - the flat characte...</td>\n",
       "      <td>0</td>\n",
       "    </tr>\n",
       "    <tr>\n",
       "      <th>2</th>\n",
       "      <td>Attempting artiness with black &amp; white and cle...</td>\n",
       "      <td>0</td>\n",
       "    </tr>\n",
       "    <tr>\n",
       "      <th>3</th>\n",
       "      <td>Very little music or anything to speak of.</td>\n",
       "      <td>0</td>\n",
       "    </tr>\n",
       "    <tr>\n",
       "      <th>4</th>\n",
       "      <td>The best scene in the movie was when Gerardo i...</td>\n",
       "      <td>1</td>\n",
       "    </tr>\n",
       "  </tbody>\n",
       "</table>\n",
       "</div>"
      ],
      "text/plain": [
       "                                              Review  Label\n",
       "0  A very, very, very slow-moving, aimless movie ...      0\n",
       "1  Not sure who was more lost - the flat characte...      0\n",
       "2  Attempting artiness with black & white and cle...      0\n",
       "3       Very little music or anything to speak of.        0\n",
       "4  The best scene in the movie was when Gerardo i...      1"
      ]
     },
     "execution_count": 3,
     "metadata": {},
     "output_type": "execute_result"
    }
   ],
   "source": [
    "# Method 1:\n",
    "df = pd.read_csv('Datasets/sentiments/imdb_labelled.txt', sep='\\t', header=None, names=['Review', 'Label'])\n",
    "df.head()"
   ]
  },
  {
   "cell_type": "markdown",
   "id": "376b7673",
   "metadata": {},
   "source": [
    "# Text Vectorization"
   ]
  },
  {
   "cell_type": "code",
   "execution_count": 4,
   "id": "696e46cc",
   "metadata": {},
   "outputs": [
    {
     "data": {
      "text/plain": [
       "<748x2811 sparse matrix of type '<class 'numpy.float64'>'\n",
       "\twith 6251 stored elements in Compressed Sparse Row format>"
      ]
     },
     "execution_count": 4,
     "metadata": {},
     "output_type": "execute_result"
    }
   ],
   "source": [
    "# Let's represent these reviews using TF-IDFvectoriser\n",
    "# Method 1:\n",
    "vectorizer = TfidfVectorizer(stop_words='english')\n",
    "X_scaled_data = vectorizer.fit_transform(df['Review'])\n",
    "X_scaled_data"
   ]
  },
  {
   "cell_type": "markdown",
   "id": "06e6036b",
   "metadata": {},
   "source": [
    "# Train Model"
   ]
  },
  {
   "cell_type": "code",
   "execution_count": 5,
   "id": "2a24eed1",
   "metadata": {},
   "outputs": [
    {
     "data": {
      "text/html": [
       "<div>\n",
       "<style scoped>\n",
       "    .dataframe tbody tr th:only-of-type {\n",
       "        vertical-align: middle;\n",
       "    }\n",
       "\n",
       "    .dataframe tbody tr th {\n",
       "        vertical-align: top;\n",
       "    }\n",
       "\n",
       "    .dataframe thead th {\n",
       "        text-align: right;\n",
       "    }\n",
       "</style>\n",
       "<table border=\"1\" class=\"dataframe\">\n",
       "  <thead>\n",
       "    <tr style=\"text-align: right;\">\n",
       "      <th></th>\n",
       "      <th>Review</th>\n",
       "      <th>Label</th>\n",
       "      <th>Cluster</th>\n",
       "    </tr>\n",
       "  </thead>\n",
       "  <tbody>\n",
       "    <tr>\n",
       "      <th>0</th>\n",
       "      <td>A very, very, very slow-moving, aimless movie ...</td>\n",
       "      <td>0</td>\n",
       "      <td>1</td>\n",
       "    </tr>\n",
       "    <tr>\n",
       "      <th>1</th>\n",
       "      <td>Not sure who was more lost - the flat characte...</td>\n",
       "      <td>0</td>\n",
       "      <td>2</td>\n",
       "    </tr>\n",
       "    <tr>\n",
       "      <th>2</th>\n",
       "      <td>Attempting artiness with black &amp; white and cle...</td>\n",
       "      <td>0</td>\n",
       "      <td>2</td>\n",
       "    </tr>\n",
       "    <tr>\n",
       "      <th>3</th>\n",
       "      <td>Very little music or anything to speak of.</td>\n",
       "      <td>0</td>\n",
       "      <td>2</td>\n",
       "    </tr>\n",
       "    <tr>\n",
       "      <th>4</th>\n",
       "      <td>The best scene in the movie was when Gerardo i...</td>\n",
       "      <td>1</td>\n",
       "      <td>1</td>\n",
       "    </tr>\n",
       "    <tr>\n",
       "      <th>...</th>\n",
       "      <td>...</td>\n",
       "      <td>...</td>\n",
       "      <td>...</td>\n",
       "    </tr>\n",
       "    <tr>\n",
       "      <th>95</th>\n",
       "      <td>Worst hour and a half of my life!Oh my gosh!</td>\n",
       "      <td>0</td>\n",
       "      <td>2</td>\n",
       "    </tr>\n",
       "    <tr>\n",
       "      <th>96</th>\n",
       "      <td>I had to walk out of the theatre for a few min...</td>\n",
       "      <td>0</td>\n",
       "      <td>2</td>\n",
       "    </tr>\n",
       "    <tr>\n",
       "      <th>97</th>\n",
       "      <td>I hate movies like that.</td>\n",
       "      <td>0</td>\n",
       "      <td>2</td>\n",
       "    </tr>\n",
       "    <tr>\n",
       "      <th>98</th>\n",
       "      <td>Yeah, the movie pretty much sucked.</td>\n",
       "      <td>0</td>\n",
       "      <td>1</td>\n",
       "    </tr>\n",
       "    <tr>\n",
       "      <th>99</th>\n",
       "      <td>THERE IS NO PLOT OR STORYLINE!!</td>\n",
       "      <td>0</td>\n",
       "      <td>2</td>\n",
       "    </tr>\n",
       "  </tbody>\n",
       "</table>\n",
       "<p>100 rows × 3 columns</p>\n",
       "</div>"
      ],
      "text/plain": [
       "                                               Review  Label  Cluster\n",
       "0   A very, very, very slow-moving, aimless movie ...      0        1\n",
       "1   Not sure who was more lost - the flat characte...      0        2\n",
       "2   Attempting artiness with black & white and cle...      0        2\n",
       "3        Very little music or anything to speak of.        0        2\n",
       "4   The best scene in the movie was when Gerardo i...      1        1\n",
       "..                                                ...    ...      ...\n",
       "95     Worst hour and a half of my life!Oh my gosh!        0        2\n",
       "96  I had to walk out of the theatre for a few min...      0        2\n",
       "97                         I hate movies like that.        0        2\n",
       "98              Yeah, the movie pretty much sucked.        0        1\n",
       "99                  THERE IS NO PLOT OR STORYLINE!!        0        2\n",
       "\n",
       "[100 rows x 3 columns]"
      ]
     },
     "execution_count": 5,
     "metadata": {},
     "output_type": "execute_result"
    }
   ],
   "source": [
    "# Train model\n",
    "# Choose the optimal number of clusters (K)\n",
    "optimal_k = 3\n",
    "\n",
    "# Train KMeans model\n",
    "kmeans = KMeans(n_clusters=optimal_k, random_state=42)\n",
    "df['Cluster'] = kmeans.fit_predict(X_scaled_data)\n",
    "df.head(100)\n"
   ]
  },
  {
   "cell_type": "markdown",
   "id": "30bd4f46",
   "metadata": {},
   "source": [
    "# Analyse Results"
   ]
  },
  {
   "cell_type": "code",
   "execution_count": 6,
   "id": "f5964521",
   "metadata": {},
   "outputs": [
    {
     "name": "stdout",
     "output_type": "stream",
     "text": [
      "Cluster 1:\n",
      "[\"This if the first movie I've given a 10 to in years.  \"\n",
      " 'I gave it a 10  ' '10/10  ']\n",
      "==================================================\n",
      "Cluster 2:\n",
      "['A very, very, very slow-moving, aimless movie about a distressed, drifting young man.  '\n",
      " 'The best scene in the movie was when Gerardo is trying to find a song that keeps running through his head.  '\n",
      " \"The rest of the movie lacks art, charm, meaning... If it's about emptiness, it works I guess because it's empty.  \"]\n",
      "==================================================\n",
      "Cluster 3:\n",
      "['Not sure who was more lost - the flat characters or the audience, nearly half of whom walked out.  '\n",
      " 'Attempting artiness with black & white and clever camera angles, the movie disappointed - became even more ridiculous - as the acting was poor and the plot and lines almost non-existent.  '\n",
      " 'Very little music or anything to speak of.  ']\n",
      "==================================================\n"
     ]
    }
   ],
   "source": [
    "# Analyze the results\n",
    "for cluster in range(optimal_k):\n",
    "    print(f\"Cluster {cluster + 1}:\")\n",
    "    print(df[df['Cluster'] == cluster]['Review'].values[:3])\n",
    "    print(\"=\" * 50)"
   ]
  },
  {
   "cell_type": "markdown",
   "id": "13e37b7c",
   "metadata": {},
   "source": [
    "# Assign Meaningful Categories to Clusters"
   ]
  },
  {
   "cell_type": "code",
   "execution_count": 7,
   "id": "8e29b5e6",
   "metadata": {},
   "outputs": [
    {
     "name": "stdout",
     "output_type": "stream",
     "text": [
      "Cluster 0: a, 10, of, I, out, this, movie, The, the, it\n",
      "Cluster 1: the, a, 0, of, 1, is, and, movie, I, this\n",
      "Cluster 2: the, and, a, of, is, to, I, in, was, The\n"
     ]
    }
   ],
   "source": [
    "# Analyze and assign meaningful categories\n",
    "cluster_labels = []\n",
    "for cluster in range(optimal_k):  # Change to the number of clusters used\n",
    "    cluster_data = df[df['Cluster'] == cluster]['Review']\n",
    "    common_words = pd.Series(' '.join(cluster_data).split()).value_counts()[:10]\n",
    "    category_label = ', '.join(common_words.index)\n",
    "    cluster_labels.append(category_label)\n",
    " \n",
    "  \n",
    "    # Print meaningful categories for each cluster\n",
    "for cluster, label in enumerate(cluster_labels):\n",
    "    print(f'Cluster {cluster}: {label}')"
   ]
  },
  {
   "cell_type": "markdown",
   "id": "c195422c",
   "metadata": {},
   "source": [
    "# Plot Cluster Graph"
   ]
  },
  {
   "cell_type": "code",
   "execution_count": 8,
   "id": "e82fa644",
   "metadata": {},
   "outputs": [
    {
     "data": {
      "image/png": "[encoded data removed]",
      "text/plain": [
       "<Figure size 432x288 with 1 Axes>"
      ]
     },
     "metadata": {
      "needs_background": "light"
     },
     "output_type": "display_data"
    },
    {
     "data": {
      "image/png": "[encoded data removed]",
      "text/plain": [
       "<Figure size 720x432 with 1 Axes>"
      ]
     },
     "metadata": {
      "needs_background": "light"
     },
     "output_type": "display_data"
    }
   ],
   "source": [
    "# Applies Principal Component Analysis (PCA) for dimensionality reduction to visualize the clusters in 2D.\n",
    "pca = PCA(n_components=2)\n",
    "reduced_features = pca.fit_transform(X_scaled_data.toarray())\n",
    "df[['PCA1', 'PCA2']] = pd.DataFrame(reduced_features, columns=['PCA1', 'PCA2'])\n",
    "\n",
    "# Plot the clusters Using matplotlib\n",
    "plt.scatter(df['PCA1'], df['PCA2'], c=df['Cluster'], cmap='viridis', alpha=0.5)\n",
    "plt.title('K-means Clusters')\n",
    "plt.show()\n",
    "\n",
    "\n",
    "# Plot the clusters using seaborn\n",
    "plt.figure(figsize=(10, 6))\n",
    "sns.scatterplot(x='PCA1', y='PCA2', hue='Cluster', data=df, palette='viridis', alpha=0.7, s=80)\n",
    "plt.title('K-means Clusters - UCI Sentiment Dataset')\n",
    "plt.xlabel('Principal Component 1')\n",
    "plt.ylabel('Principal Component 2')\n",
    "plt.legend()\n",
    "plt.show()"
   ]
  },
  {
   "cell_type": "code",
   "execution_count": 9,
   "id": "389c9a14",
   "metadata": {},
   "outputs": [
    {
     "name": "stdout",
     "output_type": "stream",
     "text": [
      "Cluster 1 centroid: [0.59552195 0.         0.         ... 0.         0.         0.        ]\n",
      "Cluster 2 centroid: [0.00159958 0.         0.00042656 ... 0.         0.00043329 0.        ]\n",
      "Cluster 3 centroid: [0.         0.000557   0.00045065 ... 0.00087768 0.00043502 0.00059345]\n",
      "Data point 1:   (0, 1524)\t0.30568525346650793\n",
      "  (0, 2803)\t0.357813539994641\n",
      "  (0, 732)\t0.41237250226961275\n",
      "  (0, 697)\t0.41237250226961275\n",
      "  (0, 1625)\t0.1620112817321219\n",
      "  (0, 87)\t0.41237250226961275\n",
      "  (0, 1627)\t0.357813539994641\n",
      "  (0, 2233)\t0.3377788769496005 - Assigned Cluster: 1\n",
      "Data point 2:   (0, 2695)\t0.38200326972787424\n",
      "  (0, 1117)\t0.3323615114845807\n",
      "  (0, 1650)\t0.40575878926099107\n",
      "  (0, 170)\t0.3413929408540909\n",
      "  (0, 385)\t0.24331747376585777\n",
      "  (0, 958)\t0.38200326972787424\n",
      "  (0, 1491)\t0.3520748545801215\n",
      "  (0, 2389)\t0.3651484603872077 - Assigned Cluster: 2\n",
      "Data point 3:   (0, 851)\t0.30587731216780034\n",
      "  (0, 1672)\t0.2654082007612842\n",
      "  (0, 1461)\t0.24464991021903637\n",
      "  (0, 1831)\t0.19259315716290257\n",
      "  (0, 1847)\t0.25054748902935137\n",
      "  (0, 54)\t0.17583252951038836\n",
      "  (0, 2041)\t0.2573557441151142\n",
      "  (0, 679)\t0.25054748902935137\n",
      "  (0, 114)\t0.2879694450894962\n",
      "  (0, 333)\t0.23058500802789783\n",
      "  (0, 432)\t0.2573557441151142\n",
      "  (0, 2741)\t0.23944787703680998\n",
      "  (0, 250)\t0.2347944997869022\n",
      "  (0, 145)\t0.30587731216780034\n",
      "  (0, 166)\t0.30587731216780034\n",
      "  (0, 1625)\t0.12017187160719515 - Assigned Cluster: 2\n"
     ]
    }
   ],
   "source": [
    "# Extract cluster centroids\n",
    "centroids = kmeans.cluster_centers_\n",
    "\n",
    "# Assuming each feature has a specific meaning, you can analyze the centroids\n",
    "# to interpret the characteristics of each cluster\n",
    "for i, centroid in enumerate(centroids):\n",
    "    print(f\"Cluster {i+1} centroid: {centroid}\")\n",
    "    # Add your own logic to interpret the centroid and assign a meaningful category\n",
    "\n",
    "  \n",
    "    # Now, you can assign labels to your original data based on the clusters\n",
    "cluster_labels = kmeans.predict(X_scaled_data)\n",
    "\n",
    "# Print the first few data points along with their assigned cluster labels\n",
    "for i in range(optimal_k):\n",
    "    print(f\"Data point {i+1}: {X_scaled_data[i]} - Assigned Cluster: {cluster_labels[i]}\")\n",
    "\n"
   ]
  },
  {
   "cell_type": "markdown",
   "id": "380202da",
   "metadata": {},
   "source": [
    "# Evaluate the Model"
   ]
  },
  {
   "cell_type": "code",
   "execution_count": 10,
   "id": "a0f970bb",
   "metadata": {},
   "outputs": [
    {
     "name": "stdout",
     "output_type": "stream",
     "text": [
      "Silhouette Score: 0.008628283150011238\n"
     ]
    }
   ],
   "source": [
    "# Evaluate Using Silhouette Score\n",
    "\n",
    "from sklearn.metrics import silhouette_score\n",
    "\n",
    "silhouette_avg = silhouette_score(X_scaled_data, kmeans.labels_)\n",
    "print(\"Silhouette Score:\", silhouette_avg)\n"
   ]
  },
  {
   "cell_type": "code",
   "execution_count": 11,
   "id": "1b813bb4",
   "metadata": {},
   "outputs": [
    {
     "name": "stdout",
     "output_type": "stream",
     "text": [
      "Inertia: 725.7615812227474\n"
     ]
    }
   ],
   "source": [
    "# Evaluate Using Inertia\n",
    "\n",
    "print(\"Inertia:\", kmeans.inertia_)\n"
   ]
  },
  {
   "cell_type": "markdown",
   "id": "4d025feb",
   "metadata": {},
   "source": [
    "# Model Interpretation"
   ]
  },
  {
   "cell_type": "code",
   "execution_count": 12,
   "id": "e3e14de6",
   "metadata": {},
   "outputs": [
    {
     "name": "stdout",
     "output_type": "stream",
     "text": [
      "Cluster Centers:\n",
      "[[5.95521946e-01 0.00000000e+00 0.00000000e+00 ... 0.00000000e+00\n",
      "  0.00000000e+00 0.00000000e+00]\n",
      " [1.59958132e-03 0.00000000e+00 4.26560919e-04 ... 0.00000000e+00\n",
      "  4.33291669e-04 0.00000000e+00]\n",
      " [0.00000000e+00 5.56996930e-04 4.50648362e-04 ... 8.77677002e-04\n",
      "  4.35015660e-04 5.93448149e-04]]\n"
     ]
    }
   ],
   "source": [
    "# Examine the Cluster Centres or Centroids\n",
    "\n",
    "print(\"Cluster Centers:\")\n",
    "print(kmeans.cluster_centers_)\n"
   ]
  },
  {
   "cell_type": "code",
   "execution_count": 13,
   "id": "3aa1f230",
   "metadata": {},
   "outputs": [
    {
     "name": "stdout",
     "output_type": "stream",
     "text": [
      "Cluster Sizes:\n",
      "0     17\n",
      "1    104\n",
      "2    627\n",
      "dtype: int64\n"
     ]
    }
   ],
   "source": [
    "# Check the sizes of each cluster. This information can give you an idea of how balanced or imbalanced the clusters are.\n",
    "\n",
    "cluster_sizes = pd.Series(kmeans.labels_).value_counts().sort_index()\n",
    "print(\"Cluster Sizes:\")\n",
    "print(cluster_sizes)\n"
   ]
  },
  {
   "cell_type": "markdown",
   "id": "3c2f2de5",
   "metadata": {},
   "source": [
    "# Save the Model"
   ]
  },
  {
   "cell_type": "code",
   "execution_count": 14,
   "id": "816c297f",
   "metadata": {},
   "outputs": [
    {
     "data": {
      "text/html": [
       "<style>#sk-container-id-1 {color: black;background-color: white;}#sk-container-id-1 pre{padding: 0;}#sk-container-id-1 div.sk-toggleable {background-color: white;}#sk-container-id-1 label.sk-toggleable__label {cursor: pointer;display: block;width: 100%;margin-bottom: 0;padding: 0.3em;box-sizing: border-box;text-align: center;}#sk-container-id-1 label.sk-toggleable__label-arrow:before {content: \"▸\";float: left;margin-right: 0.25em;color: #696969;}#sk-container-id-1 label.sk-toggleable__label-arrow:hover:before {color: black;}#sk-container-id-1 div.sk-estimator:hover label.sk-toggleable__label-arrow:before {color: black;}#sk-container-id-1 div.sk-toggleable__content {max-height: 0;max-width: 0;overflow: hidden;text-align: left;background-color: #f0f8ff;}#sk-container-id-1 div.sk-toggleable__content pre {margin: 0.2em;color: black;border-radius: 0.25em;background-color: #f0f8ff;}#sk-container-id-1 input.sk-toggleable__control:checked~div.sk-toggleable__content {max-height: 200px;max-width: 100%;overflow: auto;}#sk-container-id-1 input.sk-toggleable__control:checked~label.sk-toggleable__label-arrow:before {content: \"▾\";}#sk-container-id-1 div.sk-estimator input.sk-toggleable__control:checked~label.sk-toggleable__label {background-color: #d4ebff;}#sk-container-id-1 div.sk-label input.sk-toggleable__control:checked~label.sk-toggleable__label {background-color: #d4ebff;}#sk-container-id-1 input.sk-hidden--visually {border: 0;clip: rect(1px 1px 1px 1px);clip: rect(1px, 1px, 1px, 1px);height: 1px;margin: -1px;overflow: hidden;padding: 0;position: absolute;width: 1px;}#sk-container-id-1 div.sk-estimator {font-family: monospace;background-color: #f0f8ff;border: 1px dotted black;border-radius: 0.25em;box-sizing: border-box;margin-bottom: 0.5em;}#sk-container-id-1 div.sk-estimator:hover {background-color: #d4ebff;}#sk-container-id-1 div.sk-parallel-item::after {content: \"\";width: 100%;border-bottom: 1px solid gray;flex-grow: 1;}#sk-container-id-1 div.sk-label:hover label.sk-toggleable__label {background-color: #d4ebff;}#sk-container-id-1 div.sk-serial::before {content: \"\";position: absolute;border-left: 1px solid gray;box-sizing: border-box;top: 0;bottom: 0;left: 50%;z-index: 0;}#sk-container-id-1 div.sk-serial {display: flex;flex-direction: column;align-items: center;background-color: white;padding-right: 0.2em;padding-left: 0.2em;position: relative;}#sk-container-id-1 div.sk-item {position: relative;z-index: 1;}#sk-container-id-1 div.sk-parallel {display: flex;align-items: stretch;justify-content: center;background-color: white;position: relative;}#sk-container-id-1 div.sk-item::before, #sk-container-id-1 div.sk-parallel-item::before {content: \"\";position: absolute;border-left: 1px solid gray;box-sizing: border-box;top: 0;bottom: 0;left: 50%;z-index: -1;}#sk-container-id-1 div.sk-parallel-item {display: flex;flex-direction: column;z-index: 1;position: relative;background-color: white;}#sk-container-id-1 div.sk-parallel-item:first-child::after {align-self: flex-end;width: 50%;}#sk-container-id-1 div.sk-parallel-item:last-child::after {align-self: flex-start;width: 50%;}#sk-container-id-1 div.sk-parallel-item:only-child::after {width: 0;}#sk-container-id-1 div.sk-dashed-wrapped {border: 1px dashed gray;margin: 0 0.4em 0.5em 0.4em;box-sizing: border-box;padding-bottom: 0.4em;background-color: white;}#sk-container-id-1 div.sk-label label {font-family: monospace;font-weight: bold;display: inline-block;line-height: 1.2em;}#sk-container-id-1 div.sk-label-container {text-align: center;}#sk-container-id-1 div.sk-container {/* jupyter's `normalize.less` sets `[hidden] { display: none; }` but bootstrap.min.css set `[hidden] { display: none !important; }` so we also need the `!important` here to be able to override the default hidden behavior on the sphinx rendered scikit-learn.org. See: https://github.com/scikit-learn/scikit-learn/issues/21755 */display: inline-block !important;position: relative;}#sk-container-id-1 div.sk-text-repr-fallback {display: none;}</style><div id=\"sk-container-id-1\" class=\"sk-top-container\"><div class=\"sk-text-repr-fallback\"><pre>KMeans(n_clusters=3, random_state=42)</pre><b>In a Jupyter environment, please rerun this cell to show the HTML representation or trust the notebook. <br />On GitHub, the HTML representation is unable to render, please try loading this page with nbviewer.org.</b></div><div class=\"sk-container\" hidden><div class=\"sk-item\"><div class=\"sk-estimator sk-toggleable\"><input class=\"sk-toggleable__control sk-hidden--visually\" id=\"sk-estimator-id-1\" type=\"checkbox\" checked><label for=\"sk-estimator-id-1\" class=\"sk-toggleable__label sk-toggleable__label-arrow\">KMeans</label><div class=\"sk-toggleable__content\"><pre>KMeans(n_clusters=3, random_state=42)</pre></div></div></div></div></div>"
      ],
      "text/plain": [
       "KMeans(n_clusters=3, random_state=42)"
      ]
     },
     "execution_count": 14,
     "metadata": {},
     "output_type": "execute_result"
    }
   ],
   "source": [
    "# Required Library\n",
    "import pickle\n",
    "\n",
    "#Save the model using Pickle\n",
    "with open('Document Clustering Models/Document_Clustering_Model.pkl', 'wb') as file:\n",
    "    pickle.dump(kmeans, file)\n",
    "\n",
    "#Load the model using Pickle\n",
    "with open('Document Clustering Models/Document_Clustering_Model.pkl', 'rb') as file:\n",
    "    loaded_model = pickle.load(file)\n",
    "    \n",
    "    \n",
    "\n",
    "\n",
    "#View the model    \n",
    "loaded_model"
   ]
  },
  {
   "cell_type": "code",
   "execution_count": 15,
   "id": "1d3eb062",
   "metadata": {},
   "outputs": [
    {
     "ename": "NameError",
     "evalue": "name 'model' is not defined",
     "output_type": "error",
     "traceback": [
      "\u001b[1;31m---------------------------------------------------------------------------\u001b[0m",
      "\u001b[1;31mNameError\u001b[0m                                 Traceback (most recent call last)",
      "Input \u001b[1;32mIn [15]\u001b[0m, in \u001b[0;36m<cell line: 4>\u001b[1;34m()\u001b[0m\n\u001b[0;32m      2\u001b[0m \u001b[38;5;28;01mimport\u001b[39;00m \u001b[38;5;21;01mjoblib\u001b[39;00m\n\u001b[0;32m      3\u001b[0m \u001b[38;5;66;03m#from sklearn.externals import joblib\u001b[39;00m\n\u001b[1;32m----> 4\u001b[0m joblib\u001b[38;5;241m.\u001b[39mdump(\u001b[43mmodel\u001b[49m, \u001b[38;5;124m\"\u001b[39m\u001b[38;5;124mDocument Clustering Models/DocCluster.joblib\u001b[39m\u001b[38;5;124m\"\u001b[39m)\n\u001b[0;32m      6\u001b[0m \u001b[38;5;66;03m#Loading the Model\u001b[39;00m\n\u001b[0;32m      7\u001b[0m model \u001b[38;5;241m=\u001b[39m joblib\u001b[38;5;241m.\u001b[39mload(\u001b[38;5;124m\"\u001b[39m\u001b[38;5;124mDocument Clustering Models/DocCluster.joblib\u001b[39m\u001b[38;5;124m\"\u001b[39m)\n",
      "\u001b[1;31mNameError\u001b[0m: name 'model' is not defined"
     ]
    }
   ],
   "source": [
    "# Save Using the Joblib Library\n",
    "import joblib\n",
    "#from sklearn.externals import joblib\n",
    "joblib.dump(model, \"Document Clustering Models/DocCluster.joblib\")\n",
    "\n",
    "#Loading the Model\n",
    "model = joblib.load(\"Document Clustering Models/DocCluster.joblib\")\n",
    "\n",
    "model"
   ]
  },
  {
   "cell_type": "markdown",
   "id": "e83723cb",
   "metadata": {},
   "source": [
    "<span class=\"mark\">IMPLEMENTATION METHOD 2</span>"
   ]
  },
  {
   "cell_type": "code",
   "execution_count": null,
   "id": "891ae795",
   "metadata": {},
   "outputs": [],
   "source": [
    "# Load and Preprocess Data"
   ]
  },
  {
   "cell_type": "code",
   "execution_count": null,
   "id": "fe6cd2ab",
   "metadata": {},
   "outputs": [],
   "source": [
    "with open(\"Datasets/sentiments/imdb_labelled.txt\", \"r\") as textfile:\n",
    "    text = textfile.read().split(\"\\n\")"
   ]
  },
  {
   "cell_type": "code",
   "execution_count": null,
   "id": "924ba5b8",
   "metadata": {},
   "outputs": [],
   "source": [
    "# Create a List of sentiments separated by tabs\n",
    "text = [ line.split('\\t') for line in text if len(line.split('\\t'))==2 and line.split('\\t')[1] != '' ]\n",
    "\n",
    "#Split text into Review and Labelled, but tke only Review\n",
    "train_documents = [line[0] for line in text]\n",
    "#train_documents"
   ]
  },
  {
   "cell_type": "markdown",
   "id": "2801a69c",
   "metadata": {},
   "source": [
    "Text Vectorization"
   ]
  },
  {
   "cell_type": "code",
   "execution_count": null,
   "id": "bb8325f5",
   "metadata": {},
   "outputs": [],
   "source": [
    "# Let's represent these reviews using TF-IDFvectoriser\n",
    "from sklearn.feature_extraction.text import TfidfVectorizer\n",
    "\n",
    "#Let's instantiate the TFIDF\n",
    "tfidf_vectorizer = TfidfVectorizer(max_df=0.5, min_df=2, stop_words='english')\n",
    "\n",
    "# Let's convert reviews into Tfidf\n",
    "train_documents = tfidf_vectorizer.fit_transform(train_documents)\n",
    "\n",
    "train_documents\n"
   ]
  },
  {
   "cell_type": "markdown",
   "id": "ec659322",
   "metadata": {},
   "source": [
    "Train Model"
   ]
  },
  {
   "cell_type": "code",
   "execution_count": null,
   "id": "43ad5ed1",
   "metadata": {},
   "outputs": [],
   "source": [
    "# Let's train our model using KMeans\n",
    "# Train model\n",
    "km = KMeans(n_clusters=3, init='k-means++', max_iter=100, n_init=1, verbose=True)\n",
    "model = km.fit(train_documents)\n",
    "\n",
    "model"
   ]
  },
  {
   "cell_type": "markdown",
   "id": "758cc37e",
   "metadata": {},
   "source": [
    "Analyse Results"
   ]
  },
  {
   "cell_type": "code",
   "execution_count": null,
   "id": "873994cb",
   "metadata": {},
   "outputs": [],
   "source": [
    "# For us to view texts the clusters, KMeans has a property called labels_[]\n",
    "count=0\n",
    "for i in range(len(text)):\n",
    "    if count > 3:\n",
    "        break\n",
    "    if model.labels_[i] == 2:\n",
    "        print(text[i])\n",
    "        count += 1"
   ]
  },
  {
   "cell_type": "markdown",
   "id": "970680be",
   "metadata": {},
   "source": [
    " Evaluate Model"
   ]
  },
  {
   "cell_type": "code",
   "execution_count": null,
   "id": "8ccc5b28",
   "metadata": {},
   "outputs": [],
   "source": [
    "# Evaluate Using Silhouette Score\n",
    "\n",
    "from sklearn.metrics import silhouette_score\n",
    "\n",
    "silhouette_avg = silhouette_score(X_scaled_data, kmeans.labels_)\n",
    "print(\"Silhouette Score:\", silhouette_avg)"
   ]
  },
  {
   "cell_type": "code",
   "execution_count": null,
   "id": "8934b6ac",
   "metadata": {},
   "outputs": [],
   "source": [
    "# Evaluate Using Inertia\n",
    "\n",
    "print(\"Inertia:\", kmeans.inertia_)\n"
   ]
  },
  {
   "cell_type": "markdown",
   "id": "df9fac59",
   "metadata": {},
   "source": [
    "Interprete Model"
   ]
  },
  {
   "cell_type": "code",
   "execution_count": null,
   "id": "2d5b91d2",
   "metadata": {},
   "outputs": [],
   "source": [
    "# Examine the Cluster Centres or Centroids\n",
    "\n",
    "print(\"Cluster Centers:\")\n",
    "print(kmeans.cluster_centers_)\n"
   ]
  },
  {
   "cell_type": "code",
   "execution_count": null,
   "id": "8e0af0a3",
   "metadata": {},
   "outputs": [],
   "source": [
    "# Check the sizes of each cluster. This information can give you an idea of how balanced or imbalanced the clusters are.\n",
    "\n",
    "cluster_sizes = pd.Series(kmeans.labels_).value_counts().sort_index()\n",
    "print(\"Cluster Sizes:\")\n",
    "print(cluster_sizes)\n"
   ]
  },
  {
   "cell_type": "markdown",
   "id": "d82abbda",
   "metadata": {},
   "source": [
    "Save the Model"
   ]
  },
  {
   "cell_type": "code",
   "execution_count": null,
   "id": "fa8a5ef0",
   "metadata": {},
   "outputs": [],
   "source": [
    "# Required Library\n",
    "import pickle\n",
    "\n",
    "#Save the model using Pickle\n",
    "with open('Document_Clustering_Model.pkl', 'wb') as file:\n",
    "    pickle.dump(model, file)\n",
    "\n",
    "#Load the model using Pickle\n",
    "with open('Document_Clustering_Model.pkl', 'rb') as file:\n",
    "    loaded_model = pickle.load(file)\n",
    "    \n",
    "    \n",
    "\n",
    "\n",
    "#View the model    \n",
    "loaded_model"
   ]
  },
  {
   "cell_type": "code",
   "execution_count": null,
   "id": "f300f28e",
   "metadata": {},
   "outputs": [],
   "source": [
    "# Save Using the Joblib Library\n",
    "import joblib\n",
    "#from sklearn.externals import joblib\n",
    "joblib.dump(model, \"DocCluster.joblib\")\n",
    "\n",
    "#Loading the Model\n",
    "model = joblib.load(\"DocCluster.joblib\")\n",
    "\n",
    "model"
   ]
  },
  {
   "cell_type": "code",
   "execution_count": null,
   "id": "42198107",
   "metadata": {},
   "outputs": [],
   "source": [
    "# Save Using Onnx\n",
    "\n",
    "# import onnx\n",
    "\n",
    "# #Save the model using ONNX\n",
    "# onnx.dump(model, 'DoClusteringModel.onnx')\n",
    "\n",
    "# #Load the model using ONNX\n",
    "# loaded_model = onnx.load('DoClusteringModel.onnx')\n",
    "\n",
    "\n",
    "# #View the Model\n",
    "# loaded_model"
   ]
  },
  {
   "cell_type": "code",
   "execution_count": null,
   "id": "fad1501e",
   "metadata": {},
   "outputs": [],
   "source": []
  }
 ],
 "metadata": {
  "kernelspec": {
   "display_name": "Python 3 (ipykernel)",
   "language": "python",
   "name": "python3"
  },
  "language_info": {
   "codemirror_mode": {
    "name": "ipython",
    "version": 3
   },
   "file_extension": ".py",
   "mimetype": "text/x-python",
   "name": "python",
   "nbconvert_exporter": "python",
   "pygments_lexer": "ipython3",
   "version": "3.9.1"
  },
  "toc": {
   "base_numbering": 1,
   "nav_menu": {},
   "number_sections": true,
   "sideBar": true,
   "skip_h1_title": false,
   "title_cell": "Table of Contents",
   "title_sidebar": "Contents",
   "toc_cell": false,
   "toc_position": {},
   "toc_section_display": true,
   "toc_window_display": false
  },
  "varInspector": {
   "cols": {
    "lenName": 16,
    "lenType": 16,
    "lenVar": 40
   },
   "kernels_config": {
    "python": {
     "delete_cmd_postfix": "",
     "delete_cmd_prefix": "del ",
     "library": "var_list.py",
     "varRefreshCmd": "print(var_dic_list())"
    },
    "r": {
     "delete_cmd_postfix": ") ",
     "delete_cmd_prefix": "rm(",
     "library": "var_list.r",
     "varRefreshCmd": "cat(var_dic_list()) "
    }
   },
   "types_to_exclude": [
    "module",
    "function",
    "builtin_function_or_method",
    "instance",
    "_Feature"
   ],
   "window_display": false
  }
 },
 "nbformat": 4,
 "nbformat_minor": 5
}
